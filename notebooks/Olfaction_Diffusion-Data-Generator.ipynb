{
  "cells": [
    {
      "cell_type": "markdown",
      "metadata": {
        "id": "h7zGADTsJ6rV"
      },
      "source": [
        "###Global Variables"
      ]
    },
    {
      "cell_type": "code",
      "execution_count": null,
      "metadata": {
        "id": "bakTEBlTDW8w"
      },
      "outputs": [],
      "source": [
        "# The path to where the COCO dataset will be downloaded and stored\n",
        "DRIVE_DATA: str = \"OlfactionDiffusion/Data\"\n",
        "# The path to the allowed aroma descriptors file\n",
        "DRIVE_AROMA_DATA: str = \"OlfactionDiffusion/Data/aroma_data\"\n",
        "# The path to store the COCO dattaset annotation file\n",
        "ANNOTATION_FILE: str = \"annotations/instances_val2017.json\"\n",
        "# Which OpenAI model to use\n",
        "GPT_MODEL: str = \"gpt-4o-mini\"\n",
        "# Your OpenAI API Key from here: https://platform.openai.com/api-keys\n",
        "OPENAI_KEY: str = \"<YOUR_OPENAI_KEY>\""
      ]
    },
    {
      "cell_type": "markdown",
      "metadata": {
        "id": "gKAYrZnIJ9WG"
      },
      "source": [
        "### Mount Google Drive"
      ]
    },
    {
      "cell_type": "code",
      "execution_count": null,
      "metadata": {
        "id": "W2o7xtD2_Z0g"
      },
      "outputs": [],
      "source": [
        "from google.colab import drive\n",
        "drive.mount('/content/drive')\n",
        "%pwd\n",
        "%ls"
      ]
    },
    {
      "cell_type": "markdown",
      "metadata": {
        "id": "kCYi8gSJJ_mk"
      },
      "source": [
        "###Download and Extract COCO Dataset"
      ]
    },
    {
      "cell_type": "code",
      "execution_count": null,
      "metadata": {
        "id": "X-kN0_0MA7YF"
      },
      "outputs": [],
      "source": [
        "!pip install -U 'git+https://github.com/cocodataset/cocoapi.git#subdirectory=PythonAPI'\n",
        "\n",
        "\"\"\"\n",
        "Uncomment which datasets you would like to download and extract.\n",
        "Note that to train, you should download the 'Train' dataset, but we uncomment the\n",
        "val set because it is smaller for demonstration purposes.\n",
        "\"\"\"\n",
        "## Train\n",
        "# !wget http://images.cocodataset.org/zips/train2017.zip\n",
        "# !unzip train2017.zip\n",
        "# !wget http://images.cocodataset.org/annotations/annotations_trainval2017.zip\n",
        "# !unzip annotations_trainval2017.zip\n",
        "\n",
        "# Test\n",
        "# !wget http://images.cocodataset.org/zips/test2017.zip\n",
        "# !unzip test2017.zip\n",
        "# !wget http://images.cocodataset.org/annotations/annotations_test2017.zip\n",
        "# !unzip annotations_test2017.zip\n",
        "\n",
        "# Val\n",
        "!wget http://images.cocodataset.org/zips/val2017.zip\n",
        "!unzip val2017.zip\n",
        "!wget http://images.cocodataset.org/annotations/annotations_val2017.zip\n",
        "!unzip annotations_val2017.zip"
      ]
    },
    {
      "cell_type": "markdown",
      "source": [
        "## Top-level imports and COCO variables"
      ],
      "metadata": {
        "id": "XzbulFhE_4Ya"
      }
    },
    {
      "cell_type": "code",
      "execution_count": null,
      "metadata": {
        "id": "BzaCCEmqBxz-"
      },
      "outputs": [],
      "source": [
        "import pycocotools.coco as coco\n",
        "import matplotlib.pyplot as plt\n",
        "import numpy as np\n",
        "import pandas as pd\n",
        "import skimage.io as io\n",
        "import PIL.Image as Image\n",
        "import matplotlib.patches as patches\n",
        "import openai\n",
        "import base64\n",
        "\n",
        "\n",
        "annotation_file = ANNOTATION_FILE\n",
        "coco_annotation = coco.COCO(annotation_file)\n",
        "categories = coco_annotation.loadCats(coco_annotation.getCatIds())"
      ]
    },
    {
      "cell_type": "markdown",
      "source": [
        "## Verify COCO dataset was downloaded and setup correctly"
      ],
      "metadata": {
        "id": "qnPCA6MA9-RR"
      }
    },
    {
      "cell_type": "code",
      "execution_count": null,
      "metadata": {
        "id": "Q1q-4qKYB4C6"
      },
      "outputs": [],
      "source": [
        "def check_coco_setup(debug:bool=True):\n",
        "    category_names = [category['name'] for category in categories]\n",
        "    category_ids = coco_annotation.getCatIds(catNms=category_names)\n",
        "    image_ids = coco_annotation.getImgIds(catIds=category_ids[0])\n",
        "    image_data = coco_annotation.loadImgs(image_ids)\n",
        "\n",
        "    image_id = image_ids[0]\n",
        "    image_info = coco_annotation.loadImgs([image_id])[0]\n",
        "    image_path = 'train2017/' + image_info['file_name']\n",
        "    if debug:\n",
        "        print(f\"category ids: {category_ids}\")\n",
        "        print('Custom COCO categories: \\n{}\\n'.format(' '.join(category_names)))\n",
        "        print(f\"image path: {image_path}\")\n",
        "        print(f\"image ids: {image_ids}\")\n",
        "        print(f\"image info: {image_info}\")\n",
        "\n",
        "    image = io.imread(image_path)\n",
        "    annotation_ids = coco_annotation.getAnnIds(imgIds=image_info['id'], catIds=category_ids, iscrowd=None)\n",
        "    annotations = coco_annotation.loadAnns(annotation_ids)\n",
        "\n",
        "    plt.imshow(image)\n",
        "    plt.show()\n",
        "\n",
        "    # Draw boxes and add label to each box\n",
        "    image = Image.open(image_path)\n",
        "    fig, ax = plt.subplots()\n",
        "    for ann in annotations:\n",
        "        if debug:\n",
        "            print(ann)\n",
        "            print(ann['bbox'])\n",
        "        box = ann['bbox']\n",
        "        bb = patches.Rectangle((box[0],box[1]), box[2],box[3], linewidth=2, edgecolor=\"blue\", facecolor=\"none\")\n",
        "        ax.add_patch(bb)\n",
        "\n",
        "    ax.imshow(image)"
      ]
    },
    {
      "cell_type": "markdown",
      "source": [
        "## Verify OpenAI API was initialized correctly"
      ],
      "metadata": {
        "id": "kRQtoOBM-GhJ"
      }
    },
    {
      "cell_type": "code",
      "execution_count": null,
      "metadata": {
        "id": "V7RH3lBB9v8O"
      },
      "outputs": [],
      "source": [
        "def check_openai_setup():\n",
        "    client = openai.OpenAI(api_key=OPENAI_KEY)\n",
        "    category_names = [category['name'] for category in categories]\n",
        "    category_ids = coco_annotation.getCatIds(catNms=category_names)\n",
        "    image_ids = coco_annotation.getImgIds(catIds=category_ids[0])\n",
        "    image_data = coco_annotation.loadImgs(image_ids)\n",
        "\n",
        "    image_id = image_ids[0]\n",
        "    image_info = coco_annotation.loadImgs([image_id])[0]\n",
        "    image_path = 'val2017/' + image_info['file_name']\n",
        "\n",
        "    def encode_image(image_path):\n",
        "        with open(image_path, \"rb\") as image_file:\n",
        "            return base64.b64encode(image_file.read()).decode('utf-8')\n",
        "\n",
        "    # Getting the base64 string\n",
        "    base64_image = encode_image(image_path)\n",
        "\n",
        "    # Send the request to the API\n",
        "    response = client.chat.completions.create(\n",
        "            model=GPT_MODEL,\n",
        "            messages=[\n",
        "                {\n",
        "                    \"role\": \"system\",\n",
        "                    \"content\": [\n",
        "                        {\"type\": \"text\",\n",
        "                        \"text\": \"You are a cool image analyst.  Your goal is to describe what is in the image provided as a file.\"\n",
        "                        }\n",
        "                    ],\n",
        "                },\n",
        "                {\n",
        "                    \"role\": \"user\",\n",
        "                    \"content\": [\n",
        "                        {\n",
        "                            \"type\":\"text\",\n",
        "                            \"text\": \"What is in this image?\"\n",
        "                        },\n",
        "                        {\n",
        "                            \"type\": \"image_url\",\n",
        "                            \"image_url\":\n",
        "                                {\n",
        "                                    \"url\": f\"data:image/jpeg;base64,{base64_image}\"\n",
        "                                }\n",
        "                        }\n",
        "                    ]\n",
        "                }\n",
        "            ],\n",
        "            max_tokens=300\n",
        "        )\n",
        "    print(f\"response: {response}\")\n",
        "    # Extract the description\n",
        "    description = response.choices[0].message.content\n",
        "    print(f\"Desription: {description}\")\n",
        "    assert len(description) > 0, \"ERROR: OPENAI API RESPONSE FAILED\""
      ]
    },
    {
      "cell_type": "markdown",
      "source": [
        "## Pull the aroma descriptors CSV data from drive"
      ],
      "metadata": {
        "id": "WbEurxaF-L62"
      }
    },
    {
      "cell_type": "code",
      "execution_count": null,
      "metadata": {
        "id": "ZhXkSXsVN_Hj"
      },
      "outputs": [],
      "source": [
        "def load_aroma_descriptors():\n",
        "    aroma_df: pd.DataFrame = pd.read_csv(f\"/content/drive/My Drive/{DRIVE_AROMA_DATA}/aroma_list.csv\")\n",
        "    return aroma_df[\"Aroma\"]"
      ]
    },
    {
      "cell_type": "markdown",
      "metadata": {
        "id": "BHPZ3ihiOkLf"
      },
      "source": [
        "#Initialize and Setup"
      ]
    },
    {
      "cell_type": "code",
      "execution_count": null,
      "metadata": {
        "id": "H7SsbFyj-QC2"
      },
      "outputs": [],
      "source": [
        "check_coco_setup()\n",
        "check_openai_setup()\n",
        "aromas: list = load_aroma_descriptors()"
      ]
    },
    {
      "cell_type": "markdown",
      "source": [
        "## Analyze an input image and generate expected aromas according to the scene and objects"
      ],
      "metadata": {
        "id": "Bn1aHdEO-SQ_"
      }
    },
    {
      "cell_type": "code",
      "execution_count": null,
      "metadata": {
        "id": "s2ajXQ6KOoQz"
      },
      "outputs": [],
      "source": [
        "def get_descriptors_from_image(image_path: str, aromas: list):\n",
        "    client = openai.OpenAI(api_key=OPENAI_KEY)\n",
        "\n",
        "    def encode_image(image_path):\n",
        "        with open(image_path, \"rb\") as image_file:\n",
        "            return base64.b64encode(image_file.read()).decode('utf-8')\n",
        "\n",
        "    # Getting the base64 string\n",
        "    base64_image = encode_image(image_path)\n",
        "\n",
        "    # Send the request to the API\n",
        "    response = client.chat.completions.create(\n",
        "            model=GPT_MODEL,\n",
        "            messages=[\n",
        "                {\n",
        "                    \"role\": \"system\",\n",
        "                    \"content\": [\n",
        "                        {\"type\": \"text\",\n",
        "                        \"text\": f\"You are an olfactory expert. Describe the aromas that could be coming from the image provided in the file. You may only use the following aromas as descriptors: {aromas}. Give only the aroma descriptors as a list in your response and give no other text. Example: ['Woody', 'Musky', 'Fruity'].\"\n",
        "                        }\n",
        "                    ],\n",
        "                },\n",
        "                {\n",
        "                    \"role\": \"user\",\n",
        "                    \"content\": [\n",
        "                        {\n",
        "                            \"type\":\"text\",\n",
        "                            \"text\": \"What aromas may be emitted from the scene in this image?\"\n",
        "                        },\n",
        "                        {\n",
        "                            \"type\": \"image_url\",\n",
        "                            \"image_url\":\n",
        "                                {\n",
        "                                    \"url\": f\"data:image/jpeg;base64,{base64_image}\"\n",
        "                                }\n",
        "                        }\n",
        "                    ]\n",
        "                }\n",
        "            ],\n",
        "            max_tokens=300\n",
        "        )\n",
        "    print(f\"response: {response}\")\n",
        "    # Extract the description\n",
        "    descriptors = response.choices[0].message.content\n",
        "    print(f\"Desription: {descriptors}\")\n",
        "    assert len(list(descriptors)) > 0, \"ERROR: OPENAI API RESPONSE FAILED\"\n",
        "    return descriptors"
      ]
    },
    {
      "cell_type": "markdown",
      "source": [
        "## Training loop"
      ],
      "metadata": {
        "id": "dNLIf7aC-g73"
      }
    },
    {
      "cell_type": "code",
      "execution_count": null,
      "metadata": {
        "id": "iIIVftg8PpcX"
      },
      "outputs": [],
      "source": [
        "from PIL import Image\n",
        "import time\n",
        "import json\n",
        "import random\n",
        "\n",
        "\n",
        "# Define a class object to store corresponding data together to serialize training samples\n",
        "class OlfactionVec:\n",
        "    image_id: str\n",
        "    image_cat: str\n",
        "    image_cat_id: str\n",
        "    image_info: str\n",
        "    image_path: str\n",
        "    ann_bbox: list\n",
        "    ann_id: str\n",
        "    ann_cat: str\n",
        "    all_img_labels: list\n",
        "    descriptors: list\n",
        "    aroma_vec: list\n",
        "\n",
        "    def __init__(self, image_id:str):\n",
        "        self.image_id = image_id\n",
        "\n",
        "\n",
        "# Init list of training samples\n",
        "olfactionVectors: list[OlfactionVec] = []\n",
        "\n",
        "\n",
        "# Scrape the COCO dataset and build the olfaction-vision-language data\n",
        "def scrape_loop(get_random_n:int=1000, debug:bool=True):\n",
        "    # Define category params\n",
        "    category_names = [category['name'] for category in categories]\n",
        "    category_ids = coco_annotation.getCatIds(catNms=category_names)\n",
        "\n",
        "    # Define image ids\n",
        "    if get_random_n > 0:\n",
        "        # Get all image IDs\n",
        "        image_ids = coco_annotation.getImgIds()\n",
        "        # Randomly sample 1000 image IDs\n",
        "        image_ids = random.sample(image_ids, get_random_n)\n",
        "    else:\n",
        "        image_ids = coco_annotation.getImgIds()\n",
        "\n",
        "    # Assign cat ids according to imag ids\n",
        "    for cat_idx in range(0, len(category_ids)):\n",
        "        image_data = coco_annotation.loadImgs(image_ids)\n",
        "\n",
        "    # Generate olfactory descriptors for images\n",
        "    for i in range(0, len(image_ids)):\n",
        "        image_id = image_ids[i]\n",
        "        image_info = coco_annotation.loadImgs([image_id])[0]\n",
        "        if debug:\n",
        "            print(f\"image info: {image_info}\")\n",
        "        image_path = 'val2017/' + image_info['file_name']\n",
        "\n",
        "        # descriptors: str = get_descriptors_from_image(image_path, aromas=aromas)\n",
        "        try:\n",
        "            descriptors: str = get_descriptors_from_image(image_path, aromas=aromas)\n",
        "        except RateLimitError:\n",
        "            print(\"\\n\\tRATE LIMIT OF OPENAI API ENCOUNTERED\")\n",
        "            break\n",
        "        descriptors: list = descriptors.split(\", \")\n",
        "        descriptors: list = [descriptor.replace(\"[\", \"\").replace(\"]\", \"\").replace(\"'\",\"\").lower() for descriptor in descriptors]\n",
        "        print(descriptors)\n",
        "        aroma_vec: list = []\n",
        "        for aroma in aromas:\n",
        "            if aroma in descriptors:\n",
        "                aroma_vec.append(1)\n",
        "            else:\n",
        "                aroma_vec.append(0)\n",
        "        olfactionVec: OlfactionVec = OlfactionVec(image_id=image_id)\n",
        "        olfactionVec.image_info = image_info\n",
        "        olfactionVec.image_path = image_path\n",
        "        olfactionVec.descriptors = descriptors\n",
        "        olfactionVec.aroma_vec = aroma_vec\n",
        "        olfactionVec.image_cat_id = category_ids[cat_idx]\n",
        "        olfactionVec.image_cat = category_names[cat_idx]\n",
        "        olfactionVectors.append(olfactionVec)\n",
        "\n",
        "        # For quick visual checking\n",
        "        if debug:\n",
        "            print(f\"aroma vec: {aroma_vec}\")\n",
        "            print(f\"category ids: {category_ids}\")\n",
        "            print('Custom COCO categories: \\n{}\\n'.format(' '.join(category_names)))\n",
        "            print(f\"image path: {image_path}\")\n",
        "            print(f\"image ids: {image_ids}\")\n",
        "            print(f\"image info: {image_info}\")\n",
        "\n",
        "        image = io.imread(image_path)\n",
        "        annotation_ids = coco_annotation.getAnnIds(imgIds=image_info['id'], catIds=category_ids, iscrowd=None)\n",
        "        annotations = coco_annotation.loadAnns(annotation_ids)\n",
        "        all_img_labels: list = []\n",
        "\n",
        "        olfactionVec.all_img_labels = all_img_labels\n",
        "        diffusion_list: list = [k for k in olfactionVectors]\n",
        "        json_string1 = json.dumps(diffusion_list, default=lambda obj: obj.__dict__)\n",
        "\n",
        "        # Save a checkpoint of the data\n",
        "        with open(\"diffusion_list_checkpoint.json\", \"w\") as file:\n",
        "            json.dump(json_string1, file)\n",
        "\n",
        "        print(f\"\\n\\n\\n{float(i / len(image_ids) * 100)} % complete\\n\\n\")\n",
        "\n",
        "        # Pause so we don't get rate-limited by OpenAI\n",
        "        time.sleep(12)\n"
      ]
    },
    {
      "cell_type": "markdown",
      "source": [
        "## Main driver code: build the dataset"
      ],
      "metadata": {
        "id": "cw5F3Jt0-rRz"
      }
    },
    {
      "cell_type": "code",
      "execution_count": null,
      "metadata": {
        "id": "4aUcnRCvi6_5"
      },
      "outputs": [],
      "source": [
        "# Start training\n",
        "scrape_loop(get_random_n=3000,debug=True)\n",
        "\n",
        "# Serialize dataset\n",
        "diffusion_list: list = [k for k in olfactionVectors]\n",
        "json_string_final = json.dumps(diffusion_list, default=lambda obj: obj.__dict__)\n",
        "\n",
        "# Export data to local dir\n",
        "with open(\"diffusion_list_final.json\", \"w\") as file:\n",
        "    json.dump(json_string_final, file)\n",
        "\n",
        "# Visual check\n",
        "image_paths: list = [k.image_path for k in olfactionVectors]\n",
        "aroma_vecs: list = [k.aroma_vec for k in olfactionVectors]\n",
        "cat_labels: list = [k.image_cat_id for k in olfactionVectors]\n",
        "all_img_labels: list = [k.all_img_labels[:5] for k in olfactionVectors]\n",
        "print(f\"image_paths: {image_paths}\")\n",
        "print(f\"aroma_vecs: {aroma_vecs}\")\n",
        "print(f\"cat_labels: {cat_labels}\")\n",
        "print(f\"all_img_labels: {all_img_labels}\")"
      ]
    },
    {
      "cell_type": "markdown",
      "source": [
        "## Optionally load the json file into the variables needed for training new models"
      ],
      "metadata": {
        "id": "1ev6-YhlAZD5"
      }
    },
    {
      "cell_type": "code",
      "source": [
        "import json\n",
        "\n",
        "\n",
        "try:\n",
        "    with open('diffusion_list.json', 'r') as file:\n",
        "        data_dict = json.load(file)\n",
        "    print(f\"data_dict: {data_dict}\")\n",
        "    data_dict = json.loads(data_dict)\n",
        "    print(f\"data_dict: {data_dict}\")\n",
        "    image_paths = [item['image_path'] for item in data_dict]\n",
        "    aroma_vecs = [item['aroma_vec'] for item in data_dict]\n",
        "    cat_labels = [item['image_cat_id'] for item in data_dict]\n",
        "\n",
        "except FileNotFoundError:\n",
        "    print(\"Error: 'data.json' not found. Please ensure the file exists.\")\n",
        "except json.JSONDecodeError:\n",
        "    print(\"Error: Could not decode JSON from 'data.json'. Check file format.\")\n",
        "except Exception as e:\n",
        "    print(f\"An unexpected error occurred: {e}\")\n",
        "\n",
        "print(f\"image_paths: {image_paths}\")\n",
        "print(f\"aroma_vecs: {aroma_vecs}\")\n",
        "print(f\"cat_labels: {cat_labels}\")\n",
        "\n",
        "image_paths = image_paths[:1000]\n",
        "aroma_vecs = aroma_vecs[:1000]\n",
        "cat_labels = cat_labels[:1000]"
      ],
      "metadata": {
        "id": "ji0WGLsLtkk7"
      },
      "execution_count": null,
      "outputs": []
    }
  ],
  "metadata": {
    "colab": {
      "provenance": [],
      "machine_shape": "hm",
      "gpuType": "A100"
    },
    "kernelspec": {
      "display_name": "Python 3",
      "name": "python3"
    },
    "language_info": {
      "name": "python"
    },
    "accelerator": "GPU"
  },
  "nbformat": 4,
  "nbformat_minor": 0
}